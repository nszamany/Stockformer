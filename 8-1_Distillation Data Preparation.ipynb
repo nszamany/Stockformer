{
 "cells": [
  {
   "cell_type": "code",
   "execution_count": 7,
   "id": "2f0c1a6c",
   "metadata": {},
   "outputs": [
    {
     "name": "stderr",
     "output_type": "stream",
     "text": [
      "C:\\Users\\ns243\\AppData\\Local\\Temp\\ipykernel_9316\\3114298819.py:62: FutureWarning: DataFrame.applymap has been deprecated. Use DataFrame.map instead.\n",
      "  df_cls_pred = df_cls_pred_raw.applymap(extract_class1)\n"
     ]
    },
    {
     "name": "stdout",
     "output_type": "stream",
     "text": [
      "✅ Saved teacher CSV: C:\\Users\\ns243\\Documents\\Academic\\AI Master\\Internship\\Data\\teacher_csvs\\2015-10-05_2018-06-03\\Y_teacher.csv\n"
     ]
    },
    {
     "name": "stderr",
     "output_type": "stream",
     "text": [
      "C:\\Users\\ns243\\AppData\\Local\\Temp\\ipykernel_9316\\3114298819.py:62: FutureWarning: DataFrame.applymap has been deprecated. Use DataFrame.map instead.\n",
      "  df_cls_pred = df_cls_pred_raw.applymap(extract_class1)\n"
     ]
    },
    {
     "name": "stdout",
     "output_type": "stream",
     "text": [
      "✅ Saved teacher CSV: C:\\Users\\ns243\\Documents\\Academic\\AI Master\\Internship\\Data\\teacher_csvs\\2016-06-21_2019-02-18\\Y_teacher.csv\n"
     ]
    },
    {
     "name": "stderr",
     "output_type": "stream",
     "text": [
      "C:\\Users\\ns243\\AppData\\Local\\Temp\\ipykernel_9316\\3114298819.py:62: FutureWarning: DataFrame.applymap has been deprecated. Use DataFrame.map instead.\n",
      "  df_cls_pred = df_cls_pred_raw.applymap(extract_class1)\n"
     ]
    },
    {
     "name": "stdout",
     "output_type": "stream",
     "text": [
      "✅ Saved teacher CSV: C:\\Users\\ns243\\Documents\\Academic\\AI Master\\Internship\\Data\\teacher_csvs\\2017-03-08_2019-11-05\\Y_teacher.csv\n"
     ]
    },
    {
     "name": "stderr",
     "output_type": "stream",
     "text": [
      "C:\\Users\\ns243\\AppData\\Local\\Temp\\ipykernel_9316\\3114298819.py:62: FutureWarning: DataFrame.applymap has been deprecated. Use DataFrame.map instead.\n",
      "  df_cls_pred = df_cls_pred_raw.applymap(extract_class1)\n"
     ]
    },
    {
     "name": "stdout",
     "output_type": "stream",
     "text": [
      "✅ Saved teacher CSV: C:\\Users\\ns243\\Documents\\Academic\\AI Master\\Internship\\Data\\teacher_csvs\\2017-11-23_2020-07-22\\Y_teacher.csv\n"
     ]
    },
    {
     "name": "stderr",
     "output_type": "stream",
     "text": [
      "C:\\Users\\ns243\\AppData\\Local\\Temp\\ipykernel_9316\\3114298819.py:62: FutureWarning: DataFrame.applymap has been deprecated. Use DataFrame.map instead.\n",
      "  df_cls_pred = df_cls_pred_raw.applymap(extract_class1)\n"
     ]
    },
    {
     "name": "stdout",
     "output_type": "stream",
     "text": [
      "✅ Saved teacher CSV: C:\\Users\\ns243\\Documents\\Academic\\AI Master\\Internship\\Data\\teacher_csvs\\2018-08-10_2021-04-08\\Y_teacher.csv\n"
     ]
    },
    {
     "name": "stderr",
     "output_type": "stream",
     "text": [
      "C:\\Users\\ns243\\AppData\\Local\\Temp\\ipykernel_9316\\3114298819.py:62: FutureWarning: DataFrame.applymap has been deprecated. Use DataFrame.map instead.\n",
      "  df_cls_pred = df_cls_pred_raw.applymap(extract_class1)\n"
     ]
    },
    {
     "name": "stdout",
     "output_type": "stream",
     "text": [
      "✅ Saved teacher CSV: C:\\Users\\ns243\\Documents\\Academic\\AI Master\\Internship\\Data\\teacher_csvs\\2019-04-27_2021-12-24\\Y_teacher.csv\n"
     ]
    },
    {
     "name": "stderr",
     "output_type": "stream",
     "text": [
      "C:\\Users\\ns243\\AppData\\Local\\Temp\\ipykernel_9316\\3114298819.py:62: FutureWarning: DataFrame.applymap has been deprecated. Use DataFrame.map instead.\n",
      "  df_cls_pred = df_cls_pred_raw.applymap(extract_class1)\n"
     ]
    },
    {
     "name": "stdout",
     "output_type": "stream",
     "text": [
      "✅ Saved teacher CSV: C:\\Users\\ns243\\Documents\\Academic\\AI Master\\Internship\\Data\\teacher_csvs\\2020-01-12_2022-09-10\\Y_teacher.csv\n"
     ]
    },
    {
     "name": "stderr",
     "output_type": "stream",
     "text": [
      "C:\\Users\\ns243\\AppData\\Local\\Temp\\ipykernel_9316\\3114298819.py:62: FutureWarning: DataFrame.applymap has been deprecated. Use DataFrame.map instead.\n",
      "  df_cls_pred = df_cls_pred_raw.applymap(extract_class1)\n"
     ]
    },
    {
     "name": "stdout",
     "output_type": "stream",
     "text": [
      "✅ Saved teacher CSV: C:\\Users\\ns243\\Documents\\Academic\\AI Master\\Internship\\Data\\teacher_csvs\\2020-09-28_2023-05-28\\Y_teacher.csv\n"
     ]
    },
    {
     "name": "stderr",
     "output_type": "stream",
     "text": [
      "C:\\Users\\ns243\\AppData\\Local\\Temp\\ipykernel_9316\\3114298819.py:62: FutureWarning: DataFrame.applymap has been deprecated. Use DataFrame.map instead.\n",
      "  df_cls_pred = df_cls_pred_raw.applymap(extract_class1)\n"
     ]
    },
    {
     "name": "stdout",
     "output_type": "stream",
     "text": [
      "✅ Saved teacher CSV: C:\\Users\\ns243\\Documents\\Academic\\AI Master\\Internship\\Data\\teacher_csvs\\2021-06-15_2024-02-12\\Y_teacher.csv\n"
     ]
    },
    {
     "name": "stderr",
     "output_type": "stream",
     "text": [
      "C:\\Users\\ns243\\AppData\\Local\\Temp\\ipykernel_9316\\3114298819.py:62: FutureWarning: DataFrame.applymap has been deprecated. Use DataFrame.map instead.\n",
      "  df_cls_pred = df_cls_pred_raw.applymap(extract_class1)\n"
     ]
    },
    {
     "name": "stdout",
     "output_type": "stream",
     "text": [
      "✅ Saved teacher CSV: C:\\Users\\ns243\\Documents\\Academic\\AI Master\\Internship\\Data\\teacher_csvs\\2022-03-02_2024-10-29\\Y_teacher.csv\n"
     ]
    },
    {
     "name": "stderr",
     "output_type": "stream",
     "text": [
      "C:\\Users\\ns243\\AppData\\Local\\Temp\\ipykernel_9316\\3114298819.py:62: FutureWarning: DataFrame.applymap has been deprecated. Use DataFrame.map instead.\n",
      "  df_cls_pred = df_cls_pred_raw.applymap(extract_class1)\n"
     ]
    },
    {
     "name": "stdout",
     "output_type": "stream",
     "text": [
      "✅ Saved teacher CSV: C:\\Users\\ns243\\Documents\\Academic\\AI Master\\Internship\\Data\\teacher_csvs\\2022-11-17_2025-07-16\\Y_teacher.csv\n",
      "\n",
      "=== All rolling teacher CSVs generated successfully (regression + classification, class1 logits parsed). ===\n",
      "Saved under: C:\\Users\\ns243\\Documents\\Academic\\AI Master\\Internship\\Data\\teacher_csvs\n"
     ]
    }
   ],
   "source": [
    "# data_script1_fixed_parse.py\n",
    "import os\n",
    "import pandas as pd\n",
    "\n",
    "# === USER PATHS ===\n",
    "base_dir = r\"C:\\Users\\ns243\\Documents\\Academic\\AI Master\\Internship\\Data\\splits_SP500\"\n",
    "teacher_output_dir = r\"C:\\Users\\ns243\\Documents\\Academic\\AI Master\\Internship\\Data\\output\"\n",
    "teacher_csv_dir = r\"C:\\Users\\ns243\\Documents\\Academic\\AI Master\\Internship\\Data\\teacher_csvs\"\n",
    "\n",
    "os.makedirs(teacher_csv_dir, exist_ok=True)\n",
    "\n",
    "def extract_class1(val):\n",
    "    \"\"\"Extract the 2nd number (class 1 logit/score) from strings like '[-0.07  0.08]'.\"\"\"\n",
    "    if not isinstance(val, str):\n",
    "        return float('nan')\n",
    "    val = val.strip().strip('[]').strip()\n",
    "    parts = val.split()\n",
    "    if len(parts) < 2:\n",
    "        return float('nan')\n",
    "    try:\n",
    "        return float(parts[1])\n",
    "    except Exception:\n",
    "        return float('nan')\n",
    "\n",
    "# === LOOP OVER ALL SP500 WINDOWS ===\n",
    "for subfolder in os.listdir(base_dir):\n",
    "    if not subfolder.startswith(\"SP500_\"):\n",
    "        continue\n",
    "\n",
    "    label_path = os.path.join(base_dir, subfolder, \"label.csv\")\n",
    "    if not os.path.exists(label_path):\n",
    "        print(f\"Skipping {subfolder}: label.csv not found.\")\n",
    "        continue\n",
    "\n",
    "    # --- Parse date range ---\n",
    "    try:\n",
    "        date_part = subfolder.split(\"_\", 1)[1]  # e.g. 2015-10-05_2018-06-03\n",
    "    except IndexError:\n",
    "        continue\n",
    "\n",
    "    # --- Construct teacher output paths ---\n",
    "    reg_pred_path = os.path.join(teacher_output_dir, f\"Multitask_output_{date_part}\", \"regression\", \"regression_pred_last_step.csv\")\n",
    "    reg_true_path = os.path.join(teacher_output_dir, f\"Multitask_output_{date_part}\", \"regression\", \"regression_label_last_step.csv\")\n",
    "    cls_pred_path = os.path.join(teacher_output_dir, f\"Multitask_output_{date_part}\", \"classification\", \"classification_pred_last_step.csv\")\n",
    "    cls_true_path = os.path.join(teacher_output_dir, f\"Multitask_output_{date_part}\", \"classification\", \"classification_label_last_step.csv\")\n",
    "\n",
    "    if not (os.path.exists(reg_pred_path) and os.path.exists(reg_true_path)\n",
    "            and os.path.exists(cls_pred_path) and os.path.exists(cls_true_path)):\n",
    "        print(f\"⚠ Missing one or more teacher outputs for {subfolder}\")\n",
    "        continue\n",
    "\n",
    "    # --- Read data ---\n",
    "    df_label = pd.read_csv(label_path, index_col=0)\n",
    "    df_label.index = pd.to_datetime(df_label.index)\n",
    "\n",
    "    df_reg_pred = pd.read_csv(reg_pred_path, header=None)\n",
    "    df_reg_true = pd.read_csv(reg_true_path, header=None)\n",
    "    df_cls_pred_raw = pd.read_csv(cls_pred_path, header=None)\n",
    "    df_cls_true = pd.read_csv(cls_true_path, header=None)\n",
    "\n",
    "    # --- Extract teacher’s class 1 score ---\n",
    "    df_cls_pred = df_cls_pred_raw.applymap(extract_class1)\n",
    "\n",
    "    test_len = df_reg_pred.shape[0]\n",
    "    df_test_dates = df_label.tail(test_len)\n",
    "\n",
    "    if not (df_reg_pred.shape == df_reg_true.shape == df_cls_pred.shape == df_cls_true.shape == df_test_dates.shape):\n",
    "        print(f\"⚠ Shape mismatch for {subfolder}\")\n",
    "        continue\n",
    "\n",
    "    # --- Melt to long format ---\n",
    "    df_long = pd.DataFrame({\n",
    "        \"date\": list(df_test_dates.index) * df_test_dates.shape[1],\n",
    "        \"stock\": [col for col in df_test_dates.columns for _ in range(len(df_test_dates))],\n",
    "        \"Y_true_regression\": df_reg_true.values.T.flatten(),\n",
    "        \"teacher_regression\": df_reg_pred.values.T.flatten(),\n",
    "        \"Y_true_classification\": df_cls_true.values.T.flatten(),\n",
    "        \"teacher_classification\": df_cls_pred.values.T.flatten(),\n",
    "    })\n",
    "\n",
    "    # --- Save output ---\n",
    "    out_dir = os.path.join(teacher_csv_dir, date_part)\n",
    "    os.makedirs(out_dir, exist_ok=True)\n",
    "    out_path = os.path.join(out_dir, \"Y_teacher.csv\")\n",
    "    df_long.to_csv(out_path, index=False)\n",
    "    print(f\"✅ Saved teacher CSV: {out_path}\")\n",
    "\n",
    "print(\"\\n=== All rolling teacher CSVs generated successfully (regression + classification, class1 logits parsed). ===\")\n",
    "print(f\"Saved under: {teacher_csv_dir}\")\n",
    "\n",
    "\n"
   ]
  }
 ],
 "metadata": {
  "kernelspec": {
   "display_name": "base",
   "language": "python",
   "name": "python3"
  },
  "language_info": {
   "codemirror_mode": {
    "name": "ipython",
    "version": 3
   },
   "file_extension": ".py",
   "mimetype": "text/x-python",
   "name": "python",
   "nbconvert_exporter": "python",
   "pygments_lexer": "ipython3",
   "version": "3.13.5"
  }
 },
 "nbformat": 4,
 "nbformat_minor": 5
}
