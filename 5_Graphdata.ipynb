{
 "cells": [
  {
   "cell_type": "code",
   "execution_count": 1,
   "id": "073ef9b6",
   "metadata": {},
   "outputs": [
    {
     "name": "stdout",
     "output_type": "stream",
     "text": [
      "\n",
      "Processing directory: C:\\Users\\ns243\\Documents\\Academic\\AI Master\\Internship\\Data\\splits_SP500\\SP500_2015-10-05_2018-06-03\n",
      "Data read successfully.\n",
      "Flow array saved as npz successfully.\n",
      "Trend indicator saved as npz successfully.\n",
      "Correlation matrix saved successfully.\n",
      "Edge list saved successfully.\n"
     ]
    },
    {
     "name": "stderr",
     "output_type": "stream",
     "text": [
      "[Parallel(n_jobs=4)]: Using backend LokyBackend with 4 concurrent workers.\n",
      "[Parallel(n_jobs=4)]: Done   1 tasks      | elapsed:   25.7s\n",
      "[Parallel(n_jobs=4)]: Done   2 out of   4 | elapsed:  1.3min remaining:  1.3min\n",
      "[Parallel(n_jobs=4)]: Done   4 out of   4 | elapsed:  2.5min finished\n",
      "[Parallel(n_jobs=4)]: Using backend LokyBackend with 4 concurrent workers.\n",
      "[Parallel(n_jobs=4)]: Done   1 tasks      | elapsed:    0.7s\n",
      "[Parallel(n_jobs=4)]: Done   2 out of   4 | elapsed:    0.9s remaining:    0.9s\n",
      "[Parallel(n_jobs=4)]: Done   4 out of   4 | elapsed:    1.1s finished\n"
     ]
    },
    {
     "name": "stdout",
     "output_type": "stream",
     "text": [
      "Learning representation...\n",
      "Learning representation done!\n",
      "Embedding array saved successfully.\n",
      "\n",
      "Processing directory: C:\\Users\\ns243\\Documents\\Academic\\AI Master\\Internship\\Data\\splits_SP500\\SP500_2016-06-21_2019-02-18\n",
      "Data read successfully.\n",
      "Flow array saved as npz successfully.\n",
      "Trend indicator saved as npz successfully.\n",
      "Correlation matrix saved successfully.\n",
      "Edge list saved successfully.\n"
     ]
    },
    {
     "name": "stderr",
     "output_type": "stream",
     "text": [
      "[Parallel(n_jobs=4)]: Using backend LokyBackend with 4 concurrent workers.\n",
      "[Parallel(n_jobs=4)]: Done   1 tasks      | elapsed:   21.2s\n",
      "[Parallel(n_jobs=4)]: Done   2 out of   4 | elapsed:  1.3min remaining:  1.3min\n",
      "[Parallel(n_jobs=4)]: Done   4 out of   4 | elapsed:  3.6min finished\n",
      "[Parallel(n_jobs=4)]: Using backend LokyBackend with 4 concurrent workers.\n",
      "[Parallel(n_jobs=4)]: Done   1 tasks      | elapsed:    0.8s\n",
      "[Parallel(n_jobs=4)]: Done   2 out of   4 | elapsed:    1.0s remaining:    1.0s\n",
      "[Parallel(n_jobs=4)]: Done   4 out of   4 | elapsed:    1.4s finished\n"
     ]
    },
    {
     "name": "stdout",
     "output_type": "stream",
     "text": [
      "Learning representation...\n",
      "Learning representation done!\n",
      "Embedding array saved successfully.\n",
      "\n",
      "Processing directory: C:\\Users\\ns243\\Documents\\Academic\\AI Master\\Internship\\Data\\splits_SP500\\SP500_2017-03-08_2019-11-05\n",
      "Data read successfully.\n",
      "Flow array saved as npz successfully.\n",
      "Trend indicator saved as npz successfully.\n",
      "Correlation matrix saved successfully.\n",
      "Edge list saved successfully.\n"
     ]
    },
    {
     "name": "stderr",
     "output_type": "stream",
     "text": [
      "[Parallel(n_jobs=4)]: Using backend LokyBackend with 4 concurrent workers.\n",
      "[Parallel(n_jobs=4)]: Done   1 tasks      | elapsed:   19.2s\n",
      "[Parallel(n_jobs=4)]: Done   2 out of   4 | elapsed:  1.3min remaining:  1.3min\n",
      "[Parallel(n_jobs=4)]: Done   4 out of   4 | elapsed:  3.4min finished\n",
      "[Parallel(n_jobs=4)]: Using backend LokyBackend with 4 concurrent workers.\n",
      "[Parallel(n_jobs=4)]: Done   1 tasks      | elapsed:    1.3s\n",
      "[Parallel(n_jobs=4)]: Done   2 out of   4 | elapsed:    1.3s remaining:    1.3s\n",
      "[Parallel(n_jobs=4)]: Done   4 out of   4 | elapsed:    2.0s finished\n"
     ]
    },
    {
     "name": "stdout",
     "output_type": "stream",
     "text": [
      "Learning representation...\n",
      "Learning representation done!\n",
      "Embedding array saved successfully.\n",
      "\n",
      "Processing directory: C:\\Users\\ns243\\Documents\\Academic\\AI Master\\Internship\\Data\\splits_SP500\\SP500_2017-11-23_2020-07-22\n",
      "Data read successfully.\n",
      "Flow array saved as npz successfully.\n",
      "Trend indicator saved as npz successfully.\n",
      "Correlation matrix saved successfully.\n",
      "Edge list saved successfully.\n"
     ]
    },
    {
     "name": "stderr",
     "output_type": "stream",
     "text": [
      "[Parallel(n_jobs=4)]: Using backend LokyBackend with 4 concurrent workers.\n",
      "[Parallel(n_jobs=4)]: Done   1 tasks      | elapsed:   20.9s\n",
      "[Parallel(n_jobs=4)]: Done   2 out of   4 | elapsed:  1.3min remaining:  1.3min\n",
      "[Parallel(n_jobs=4)]: Done   4 out of   4 | elapsed:  3.4min finished\n",
      "[Parallel(n_jobs=4)]: Using backend LokyBackend with 4 concurrent workers.\n",
      "[Parallel(n_jobs=4)]: Done   1 tasks      | elapsed:    1.0s\n",
      "[Parallel(n_jobs=4)]: Done   2 out of   4 | elapsed:    1.2s remaining:    1.2s\n",
      "[Parallel(n_jobs=4)]: Done   4 out of   4 | elapsed:    1.7s finished\n"
     ]
    },
    {
     "name": "stdout",
     "output_type": "stream",
     "text": [
      "Learning representation...\n",
      "Learning representation done!\n",
      "Embedding array saved successfully.\n",
      "\n",
      "Processing directory: C:\\Users\\ns243\\Documents\\Academic\\AI Master\\Internship\\Data\\splits_SP500\\SP500_2018-08-10_2021-04-08\n",
      "Data read successfully.\n",
      "Flow array saved as npz successfully.\n",
      "Trend indicator saved as npz successfully.\n",
      "Correlation matrix saved successfully.\n",
      "Edge list saved successfully.\n"
     ]
    },
    {
     "name": "stderr",
     "output_type": "stream",
     "text": [
      "[Parallel(n_jobs=4)]: Using backend LokyBackend with 4 concurrent workers.\n",
      "[Parallel(n_jobs=4)]: Done   1 tasks      | elapsed:   19.1s\n",
      "[Parallel(n_jobs=4)]: Done   2 out of   4 | elapsed:  1.3min remaining:  1.3min\n",
      "[Parallel(n_jobs=4)]: Done   4 out of   4 | elapsed:  3.4min finished\n",
      "[Parallel(n_jobs=4)]: Using backend LokyBackend with 4 concurrent workers.\n",
      "[Parallel(n_jobs=4)]: Done   1 tasks      | elapsed:    1.2s\n",
      "[Parallel(n_jobs=4)]: Done   2 out of   4 | elapsed:    1.4s remaining:    1.4s\n",
      "[Parallel(n_jobs=4)]: Done   4 out of   4 | elapsed:    1.8s finished\n"
     ]
    },
    {
     "name": "stdout",
     "output_type": "stream",
     "text": [
      "Learning representation...\n",
      "Learning representation done!\n",
      "Embedding array saved successfully.\n",
      "\n",
      "Processing directory: C:\\Users\\ns243\\Documents\\Academic\\AI Master\\Internship\\Data\\splits_SP500\\SP500_2019-04-27_2021-12-24\n",
      "Data read successfully.\n",
      "Flow array saved as npz successfully.\n",
      "Trend indicator saved as npz successfully.\n",
      "Correlation matrix saved successfully.\n",
      "Edge list saved successfully.\n"
     ]
    },
    {
     "name": "stderr",
     "output_type": "stream",
     "text": [
      "[Parallel(n_jobs=4)]: Using backend LokyBackend with 4 concurrent workers.\n",
      "[Parallel(n_jobs=4)]: Done   1 tasks      | elapsed:   20.8s\n",
      "[Parallel(n_jobs=4)]: Done   2 out of   4 | elapsed:  1.4min remaining:  1.4min\n",
      "[Parallel(n_jobs=4)]: Done   4 out of   4 | elapsed:  3.6min finished\n",
      "[Parallel(n_jobs=4)]: Using backend LokyBackend with 4 concurrent workers.\n",
      "[Parallel(n_jobs=4)]: Done   1 tasks      | elapsed:    1.0s\n",
      "[Parallel(n_jobs=4)]: Done   2 out of   4 | elapsed:    1.2s remaining:    1.2s\n",
      "[Parallel(n_jobs=4)]: Done   4 out of   4 | elapsed:    1.8s finished\n"
     ]
    },
    {
     "name": "stdout",
     "output_type": "stream",
     "text": [
      "Learning representation...\n",
      "Learning representation done!\n",
      "Embedding array saved successfully.\n",
      "\n",
      "Processing directory: C:\\Users\\ns243\\Documents\\Academic\\AI Master\\Internship\\Data\\splits_SP500\\SP500_2020-01-12_2022-09-10\n",
      "Data read successfully.\n",
      "Flow array saved as npz successfully.\n",
      "Trend indicator saved as npz successfully.\n",
      "Correlation matrix saved successfully.\n",
      "Edge list saved successfully.\n"
     ]
    },
    {
     "name": "stderr",
     "output_type": "stream",
     "text": [
      "[Parallel(n_jobs=4)]: Using backend LokyBackend with 4 concurrent workers.\n",
      "[Parallel(n_jobs=4)]: Done   1 tasks      | elapsed:   19.5s\n",
      "[Parallel(n_jobs=4)]: Done   2 out of   4 | elapsed:  1.2min remaining:  1.2min\n",
      "[Parallel(n_jobs=4)]: Done   4 out of   4 | elapsed:  3.3min finished\n",
      "[Parallel(n_jobs=4)]: Using backend LokyBackend with 4 concurrent workers.\n",
      "[Parallel(n_jobs=4)]: Done   1 tasks      | elapsed:    1.0s\n",
      "[Parallel(n_jobs=4)]: Done   2 out of   4 | elapsed:    1.2s remaining:    1.2s\n",
      "[Parallel(n_jobs=4)]: Done   4 out of   4 | elapsed:    1.8s finished\n"
     ]
    },
    {
     "name": "stdout",
     "output_type": "stream",
     "text": [
      "Learning representation...\n",
      "Learning representation done!\n",
      "Embedding array saved successfully.\n",
      "\n",
      "Processing directory: C:\\Users\\ns243\\Documents\\Academic\\AI Master\\Internship\\Data\\splits_SP500\\SP500_2020-09-28_2023-05-28\n",
      "Data read successfully.\n",
      "Flow array saved as npz successfully.\n",
      "Trend indicator saved as npz successfully.\n",
      "Correlation matrix saved successfully.\n",
      "Edge list saved successfully.\n"
     ]
    },
    {
     "name": "stderr",
     "output_type": "stream",
     "text": [
      "[Parallel(n_jobs=4)]: Using backend LokyBackend with 4 concurrent workers.\n",
      "[Parallel(n_jobs=4)]: Done   1 tasks      | elapsed:   19.9s\n",
      "[Parallel(n_jobs=4)]: Done   2 out of   4 | elapsed:  1.2min remaining:  1.2min\n",
      "[Parallel(n_jobs=4)]: Done   4 out of   4 | elapsed:  3.3min finished\n",
      "[Parallel(n_jobs=4)]: Using backend LokyBackend with 4 concurrent workers.\n",
      "[Parallel(n_jobs=4)]: Done   1 tasks      | elapsed:    1.1s\n",
      "[Parallel(n_jobs=4)]: Done   2 out of   4 | elapsed:    1.3s remaining:    1.3s\n",
      "[Parallel(n_jobs=4)]: Done   4 out of   4 | elapsed:    1.8s finished\n"
     ]
    },
    {
     "name": "stdout",
     "output_type": "stream",
     "text": [
      "Learning representation...\n",
      "Learning representation done!\n",
      "Embedding array saved successfully.\n",
      "\n",
      "Processing directory: C:\\Users\\ns243\\Documents\\Academic\\AI Master\\Internship\\Data\\splits_SP500\\SP500_2021-06-15_2024-02-12\n",
      "Data read successfully.\n",
      "Flow array saved as npz successfully.\n",
      "Trend indicator saved as npz successfully.\n",
      "Correlation matrix saved successfully.\n",
      "Edge list saved successfully.\n"
     ]
    },
    {
     "name": "stderr",
     "output_type": "stream",
     "text": [
      "[Parallel(n_jobs=4)]: Using backend LokyBackend with 4 concurrent workers.\n",
      "[Parallel(n_jobs=4)]: Done   1 tasks      | elapsed:   19.5s\n",
      "[Parallel(n_jobs=4)]: Done   2 out of   4 | elapsed:  1.2min remaining:  1.2min\n",
      "[Parallel(n_jobs=4)]: Done   4 out of   4 | elapsed:  3.3min finished\n",
      "[Parallel(n_jobs=4)]: Using backend LokyBackend with 4 concurrent workers.\n",
      "[Parallel(n_jobs=4)]: Done   1 tasks      | elapsed:    0.9s\n",
      "[Parallel(n_jobs=4)]: Done   2 out of   4 | elapsed:    1.1s remaining:    1.1s\n",
      "[Parallel(n_jobs=4)]: Done   4 out of   4 | elapsed:    1.6s finished\n"
     ]
    },
    {
     "name": "stdout",
     "output_type": "stream",
     "text": [
      "Learning representation...\n",
      "Learning representation done!\n",
      "Embedding array saved successfully.\n",
      "\n",
      "Processing directory: C:\\Users\\ns243\\Documents\\Academic\\AI Master\\Internship\\Data\\splits_SP500\\SP500_2022-03-02_2024-10-29\n",
      "Data read successfully.\n",
      "Flow array saved as npz successfully.\n",
      "Trend indicator saved as npz successfully.\n",
      "Correlation matrix saved successfully.\n",
      "Edge list saved successfully.\n"
     ]
    },
    {
     "name": "stderr",
     "output_type": "stream",
     "text": [
      "[Parallel(n_jobs=4)]: Using backend LokyBackend with 4 concurrent workers.\n",
      "[Parallel(n_jobs=4)]: Done   1 tasks      | elapsed:   19.6s\n",
      "[Parallel(n_jobs=4)]: Done   2 out of   4 | elapsed:  1.2min remaining:  1.2min\n",
      "[Parallel(n_jobs=4)]: Done   4 out of   4 | elapsed:  3.4min finished\n",
      "[Parallel(n_jobs=4)]: Using backend LokyBackend with 4 concurrent workers.\n",
      "[Parallel(n_jobs=4)]: Done   1 tasks      | elapsed:    0.8s\n",
      "[Parallel(n_jobs=4)]: Done   2 out of   4 | elapsed:    1.0s remaining:    1.0s\n",
      "[Parallel(n_jobs=4)]: Done   4 out of   4 | elapsed:    1.4s finished\n"
     ]
    },
    {
     "name": "stdout",
     "output_type": "stream",
     "text": [
      "Learning representation...\n",
      "Learning representation done!\n",
      "Embedding array saved successfully.\n",
      "\n",
      "Processing directory: C:\\Users\\ns243\\Documents\\Academic\\AI Master\\Internship\\Data\\splits_SP500\\SP500_2022-11-17_2025-07-16\n",
      "Data read successfully.\n",
      "Flow array saved as npz successfully.\n",
      "Trend indicator saved as npz successfully.\n",
      "Correlation matrix saved successfully.\n",
      "Edge list saved successfully.\n"
     ]
    },
    {
     "name": "stderr",
     "output_type": "stream",
     "text": [
      "[Parallel(n_jobs=4)]: Using backend LokyBackend with 4 concurrent workers.\n",
      "[Parallel(n_jobs=4)]: Done   1 tasks      | elapsed:   23.3s\n",
      "[Parallel(n_jobs=4)]: Done   2 out of   4 | elapsed:  1.1min remaining:  1.1min\n",
      "[Parallel(n_jobs=4)]: Done   4 out of   4 | elapsed:  2.7min finished\n",
      "[Parallel(n_jobs=4)]: Using backend LokyBackend with 4 concurrent workers.\n",
      "[Parallel(n_jobs=4)]: Done   1 tasks      | elapsed:    0.9s\n",
      "[Parallel(n_jobs=4)]: Done   2 out of   4 | elapsed:    1.1s remaining:    1.1s\n",
      "[Parallel(n_jobs=4)]: Done   4 out of   4 | elapsed:    1.2s finished\n"
     ]
    },
    {
     "name": "stdout",
     "output_type": "stream",
     "text": [
      "Learning representation...\n",
      "Learning representation done!\n",
      "Embedding array saved successfully.\n",
      "\n",
      "=== All S&P500 subfolders processed successfully! ===\n"
     ]
    }
   ],
   "source": [
    "import pandas as pd\n",
    "import numpy as np\n",
    "import networkx as nx\n",
    "import sys\n",
    "import os\n",
    "\n",
    "# === CONFIG ===\n",
    "base_dir = r\"C:\\Users\\ns243\\Documents\\Academic\\AI Master\\Internship\\Data\\splits_SP500\"\n",
    "graph_embedding_dir = r\"C:\\Users\\ns243\\Documents\\Academic\\AI Master\\Internship\\GraphEmbedding\"\n",
    "\n",
    "# Add GraphEmbedding path for imports\n",
    "sys.path.append(graph_embedding_dir)\n",
    "from ge import Struc2Vec  # same as in the original code\n",
    "\n",
    "# === PROCESSING LOOP ===\n",
    "for root, dirs, files in os.walk(base_dir):\n",
    "    if \"label.csv\" in files:\n",
    "        directory = root  # equivalent to the original 'directory' variable\n",
    "        print(f\"\\nProcessing directory: {directory}\")\n",
    "\n",
    "        # --- Reading the data ---\n",
    "        df = pd.read_csv(f'{directory}/label.csv', index_col=0)\n",
    "        df.index = pd.to_datetime(df.index)\n",
    "        df.fillna(0, inplace=True)\n",
    "        print('Data read successfully.')\n",
    "\n",
    "        # --- Convert data to NumPy array and save as npz ---\n",
    "        data = df.values\n",
    "        np.savez(f'{directory}/flow.npz', result=data)\n",
    "        print('Flow array saved as npz successfully.')\n",
    "\n",
    "        # --- Convert returns to up/down trend classification ---\n",
    "        trend_indicator = (data > 0).astype(int)\n",
    "        np.savez(f'{directory}/trend_indicator.npz', result=trend_indicator)\n",
    "        print('Trend indicator saved as npz successfully.')\n",
    "\n",
    "        # --- Check for columns with zero variance and replace them ---\n",
    "        epsilon = 1e-10\n",
    "        std_devs = np.std(df, axis=0)\n",
    "        zero_variance_mask = std_devs < epsilon\n",
    "        df.loc[:, zero_variance_mask] = epsilon\n",
    "\n",
    "        # --- Calculate and save correlation matrix ---\n",
    "        corr_matrix = np.corrcoef(df, rowvar=False)\n",
    "        np.save(f'{directory}/corr_adj.npy', corr_matrix)\n",
    "        print('Correlation matrix saved successfully.')\n",
    "\n",
    "        # --- Generate and save edge list ---\n",
    "        edge_list = []\n",
    "        for i in range(corr_matrix.shape[0]):\n",
    "            for j in range(i + 1, corr_matrix.shape[1]):\n",
    "                weight = corr_matrix[i, j]\n",
    "                edge_list.append((i, j, weight))\n",
    "        with open(f'{directory}/data.edgelist', 'w') as f:\n",
    "            for edge in edge_list:\n",
    "                f.write(f'{edge[0]} {edge[1]} {edge[2]}\\n')\n",
    "        print('Edge list saved successfully.')\n",
    "\n",
    "        # --- Read the graph, train the model, and save embeddings ---\n",
    "        G = nx.read_edgelist(f'{directory}/data.edgelist', create_using=nx.DiGraph(), \n",
    "                             nodetype=None, data=[('weight', float)])\n",
    "        model = Struc2Vec(G, 10, 80, workers=4, verbose=40)\n",
    "        model.train(embed_size=128)\n",
    "        embeddings = model.get_embeddings()\n",
    "\n",
    "        # --- Convert embeddings to numpy array and save ---\n",
    "        embedding_array = np.array(list(embeddings.values()))\n",
    "        np.save(f'{directory}/128_corr_struc2vec_adjgat.npy', embedding_array)\n",
    "        print('Embedding array saved successfully.')\n",
    "\n",
    "print(\"\\n=== All S&P500 subfolders processed successfully! ===\")\n"
   ]
  }
 ],
 "metadata": {
  "kernelspec": {
   "display_name": "Python (stockformer)",
   "language": "python",
   "name": "stockformer"
  },
  "language_info": {
   "codemirror_mode": {
    "name": "ipython",
    "version": 3
   },
   "file_extension": ".py",
   "mimetype": "text/x-python",
   "name": "python",
   "nbconvert_exporter": "python",
   "pygments_lexer": "ipython3",
   "version": "3.10.18"
  }
 },
 "nbformat": 4,
 "nbformat_minor": 5
}
