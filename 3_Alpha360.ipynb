{
 "cells": [
  {
   "cell_type": "code",
   "execution_count": 2,
   "id": "e4e542fd",
   "metadata": {},
   "outputs": [
    {
     "name": "stdout",
     "output_type": "stream",
     "text": [
      "Done. Files match Stockformer CSV layout.\n"
     ]
    }
   ],
   "source": [
    "import pandas as pd\n",
    "import os\n",
    "\n",
    "# === CONFIG ===\n",
    "path = r\"C:\\Users\\ns243\\Documents\\Academic\\AI Master\\Internship\\Data\\df_sp500.csv\"\n",
    "out_dir = r\"C:\\Users\\ns243\\Documents\\Academic\\AI Master\\Internship\\Data\\Alpha360\"\n",
    "os.makedirs(out_dir, exist_ok=True)\n",
    "\n",
    "# === LOAD ===\n",
    "df = pd.read_csv(path, parse_dates=[\"date\"])\n",
    "df = df.sort_values([\"stock_code\", \"date\"])\n",
    "\n",
    "# === Compute VWAP2 (2-day rolling VWAP) ===\n",
    "df[\"vwap\"] = (df[\"close\"] * df[\"volume\"]).groupby(df[\"stock_code\"]).cumsum() / df[\"volume\"].groupby(df[\"stock_code\"]).cumsum()\n",
    "df[\"vwap2\"] = (\n",
    "    ((df[\"close\"] * df[\"volume\"]).groupby(df[\"stock_code\"]).rolling(2).sum().reset_index(level=0, drop=True)) /\n",
    "    (df[\"volume\"].groupby(df[\"stock_code\"]).rolling(2).sum().reset_index(level=0, drop=True))\n",
    ")\n",
    "\n",
    "# === Pivot into wide panel ===\n",
    "def pivot_feature(feature):\n",
    "    return (\n",
    "        df.pivot(index=\"date\", columns=\"stock_code\", values=feature)\n",
    "        .sort_index()\n",
    "    )\n",
    "\n",
    "# === Generate and save lag CSVs ===\n",
    "def expand_and_save(feature_name):\n",
    "    base = pivot_feature(feature_name)\n",
    "    for lag in range(60):\n",
    "        shifted = base.shift(lag)\n",
    "        out_path = os.path.join(out_dir, f\"{feature_name.upper()}{lag}.csv\")\n",
    "        shifted.to_csv(out_path, index_label=\"datetime\")\n",
    "\n",
    "# === Run for each feature ===\n",
    "for col in [\"open\", \"high\", \"low\", \"close\", \"volume\", \"vwap2\"]:\n",
    "    expand_and_save(col)\n",
    "\n",
    "print(\"Done. Files match Stockformer CSV layout.\")\n"
   ]
  }
 ],
 "metadata": {
  "kernelspec": {
   "display_name": "base",
   "language": "python",
   "name": "python3"
  },
  "language_info": {
   "codemirror_mode": {
    "name": "ipython",
    "version": 3
   },
   "file_extension": ".py",
   "mimetype": "text/x-python",
   "name": "python",
   "nbconvert_exporter": "python",
   "pygments_lexer": "ipython3",
   "version": "3.13.5"
  }
 },
 "nbformat": 4,
 "nbformat_minor": 5
}
